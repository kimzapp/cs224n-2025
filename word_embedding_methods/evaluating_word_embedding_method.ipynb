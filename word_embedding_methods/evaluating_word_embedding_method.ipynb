{
 "cells": [
  {
   "cell_type": "markdown",
   "id": "b55452ed",
   "metadata": {},
   "source": [
    "### 1. Word2Vec"
   ]
  },
  {
   "cell_type": "markdown",
   "id": "fb0697aa",
   "metadata": {},
   "source": [
    "Download model từ API:"
   ]
  },
  {
   "cell_type": "code",
   "execution_count": null,
   "id": "b7afbea7",
   "metadata": {},
   "outputs": [],
   "source": [
    "import gensim.downloader as api\n",
    "\n",
    "model = api.load(\"word2vec-google-news-300\")"
   ]
  },
  {
   "cell_type": "markdown",
   "id": "85ac68ed",
   "metadata": {},
   "source": [
    "Nếu quá trình tải xuống bị lỗi, có thể tải trực tiếp trọng số từ link: https://code.google.com/archive/p/word2vec/\n",
    "\n",
    "Sau đó load trọng số vào:"
   ]
  },
  {
   "cell_type": "code",
   "execution_count": 25,
   "id": "12800c6f",
   "metadata": {},
   "outputs": [],
   "source": [
    "from models import Word2VecModel\n",
    "\n",
    "word2vec = Word2VecModel(model_path=r\"E:\\ModelsHub\\GoogleNews-vectors-negative300.bin.gz\", limit=None) # limit giới hạn số từ để tiết kiệm RAM"
   ]
  },
  {
   "cell_type": "markdown",
   "id": "42d8d141",
   "metadata": {},
   "source": [
    "Xác định task và đánh giá:"
   ]
  },
  {
   "cell_type": "code",
   "execution_count": 28,
   "id": "e2697dc4",
   "metadata": {},
   "outputs": [
    {
     "name": "stderr",
     "output_type": "stream",
     "text": [
      "Failed to extract metadata from model: 'Word2VecModel' object has no attribute 'model_card_data'. Upgrading to sentence-transformers v3.0.0 or above is recommended.\n"
     ]
    },
    {
     "data": {
      "text/html": [
       "<pre style=\"white-space:pre;overflow-x:auto;line-height:normal;font-family:Menlo,'DejaVu Sans Mono',consolas,'Courier New',monospace\"><span style=\"color: #262626; text-decoration-color: #262626\">───────────────────────────────────────────────── </span><span style=\"font-weight: bold\">Selected tasks </span><span style=\"color: #262626; text-decoration-color: #262626\"> ─────────────────────────────────────────────────</span>\n",
       "</pre>\n"
      ],
      "text/plain": [
       "\u001b[38;5;235m───────────────────────────────────────────────── \u001b[0m\u001b[1mSelected tasks \u001b[0m\u001b[38;5;235m ─────────────────────────────────────────────────\u001b[0m\n"
      ]
     },
     "metadata": {},
     "output_type": "display_data"
    },
    {
     "data": {
      "text/html": [
       "<pre style=\"white-space:pre;overflow-x:auto;line-height:normal;font-family:Menlo,'DejaVu Sans Mono',consolas,'Courier New',monospace\"><span style=\"font-weight: bold\">Classification</span>\n",
       "</pre>\n"
      ],
      "text/plain": [
       "\u001b[1mClassification\u001b[0m\n"
      ]
     },
     "metadata": {},
     "output_type": "display_data"
    },
    {
     "data": {
      "text/html": [
       "<pre style=\"white-space:pre;overflow-x:auto;line-height:normal;font-family:Menlo,'DejaVu Sans Mono',consolas,'Courier New',monospace\">    - Banking77Classification, <span style=\"color: #626262; text-decoration-color: #626262; font-style: italic\">s2s</span>\n",
       "</pre>\n"
      ],
      "text/plain": [
       "    - Banking77Classification, \u001b[3;38;5;241ms2s\u001b[0m\n"
      ]
     },
     "metadata": {},
     "output_type": "display_data"
    },
    {
     "data": {
      "text/html": [
       "<pre style=\"white-space:pre;overflow-x:auto;line-height:normal;font-family:Menlo,'DejaVu Sans Mono',consolas,'Courier New',monospace\">\n",
       "\n",
       "</pre>\n"
      ],
      "text/plain": [
       "\n",
       "\n"
      ]
     },
     "metadata": {},
     "output_type": "display_data"
    },
    {
     "name": "stderr",
     "output_type": "stream",
     "text": [
      "Dataset 'Banking77Classification' is superseded by 'Banking77Classification.v2', you might consider using the newer version of the dataset.\n"
     ]
    },
    {
     "data": {
      "text/plain": [
       "[TaskResult(task_name=Banking77Classification, scores=...)]"
      ]
     },
     "execution_count": 28,
     "metadata": {},
     "output_type": "execute_result"
    }
   ],
   "source": [
    "import mteb\n",
    "\n",
    "tasks = mteb.get_tasks(tasks=[\"Banking77Classification\"])\n",
    "evaluation = mteb.MTEB(tasks=tasks)\n",
    "evaluation.run(word2vec)"
   ]
  },
  {
   "cell_type": "markdown",
   "id": "a840a7af",
   "metadata": {},
   "source": [
    "Với những model không được hỗ trợ bởi Sentence Transformers, ta cần tự xác định metadata cho nó để dễ phân biệt khi xem kết quả"
   ]
  }
 ],
 "metadata": {
  "kernelspec": {
   "display_name": "cs224",
   "language": "python",
   "name": "python3"
  },
  "language_info": {
   "codemirror_mode": {
    "name": "ipython",
    "version": 3
   },
   "file_extension": ".py",
   "mimetype": "text/x-python",
   "name": "python",
   "nbconvert_exporter": "python",
   "pygments_lexer": "ipython3",
   "version": "3.10.18"
  }
 },
 "nbformat": 4,
 "nbformat_minor": 5
}
